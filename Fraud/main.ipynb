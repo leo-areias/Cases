{
 "cells": [
  {
   "cell_type": "markdown",
   "metadata": {},
   "source": [
    "# Case\n",
    "Como parte do nosso processo seletivo para Cientista de Dados Júnior, desenvolvemos um estudo de caso que permitirá avaliar suas habilidades práticas em ciência de dados. Este desafio foi inspirado em cases existentes na área e utiliza um conjunto de dados disponível no Kaggle.\n",
    "\n",
    "**Objetivo do Case:**\n",
    "\n",
    "Você será responsável por analisar um conjunto de dados de transações financeiras para identificar padrões que possam indicar atividades fraudulentas. O objetivo é desenvolver um modelo preditivo capaz de classificar transações como fraudulentas ou legítimas.\n",
    "\n",
    "**Conjunto de Dados:**\n",
    "\n",
    "Utilizaremos o conjunto de dados \"Credit Card Fraud Detection\" disponível no Kaggle. Este dataset contém transações realizadas com cartões de crédito na Europa ao longo de dois dias em setembro de 2013. Das 284.807 transações, 492 foram identificadas como fraudulentas. Os dados estão altamente desbalanceados, com a classe positiva (fraude) representando 0,172% de todas as transações. As características foram transformadas usando PCA, exceto pelas variáveis 'Time' e 'Amount'.\n",
    "\n",
    "**Link para o Dataset:**\n",
    "\n",
    "[Credit Card Fraud Detection Dataset](https://www.kaggle.com/datasets/mlg-ulb/creditcardfraud)\n",
    "\n",
    "**Tarefas e Perguntas:**\n",
    "\n",
    "1. **Análise Exploratória de Dados (EDA):**\n",
    "   - Realize uma análise exploratória detalhada dos dados.\n",
    "   - Identifique padrões, distribuições e possíveis anomalias.\n",
    "   - Visualize a distribuição das classes e discuta o desbalanceamento dos dados.\n",
    "\n",
    "2. **Pré-processamento de Dados:**\n",
    "   - Descreva as etapas de limpeza e preparação dos dados para modelagem.\n",
    "   - Considere técnicas para lidar com o desbalanceamento das classes, como sobremostragem, subamostragem ou uso de algoritmos específicos.\n",
    "\n",
    "3. **Desenvolvimento do Modelo Preditivo:**\n",
    "   - Construa pelo menos dois modelos de machine learning para a detecção de fraudes.\n",
    "   - Compare o desempenho dos modelos utilizando métricas apropriadas, como AUC-ROC, precisão, recall e F1-score.\n",
    "   - Discuta as vantagens e desvantagens de cada modelo no contexto do problema.\n",
    "\n",
    "4. **Validação e Teste:**\n",
    "   - Explique como você validou os modelos (por exemplo, validação cruzada).\n",
    "   - Apresente os resultados nos dados de teste e interprete-os.\n",
    "   - Discuta qualquer evidência de overfitting ou underfitting e como isso foi abordado.\n",
    "\n",
    "5. **Implementação e Considerações Finais:**\n",
    "   - Sugira como o modelo poderia ser implementado em um ambiente de produção.\n",
    "   - Considere aspectos como desempenho em tempo real, atualizações do modelo e monitoramento contínuo.\n",
    "   - Discuta possíveis implicações éticas e de privacidade relacionadas à detecção de fraudes.\n",
    "\n",
    "**Entrega:**\n",
    "\n",
    "Por favor, compile suas análises, códigos e conclusões em um relatório estruturado em formato PDF. Inclua visualizações e gráficos que suportem suas descobertas. Envie o relatório juntamente com o código-fonte utilizado para nossa avaliação.\n",
    "\n",
    "Estamos ansiosos para ver sua abordagem e soluções para este desafio. Boa sorte! \n",
    "\n"
   ]
  },
  {
   "cell_type": "code",
   "execution_count": 1,
   "metadata": {},
   "outputs": [],
   "source": [
    "# Tools\n",
    "import pandas as pd\n",
    "import numpy as np\n",
    "import matplotlib.pyplot as plt"
   ]
  },
  {
   "cell_type": "markdown",
   "metadata": {},
   "source": [
    "## 1. **Análise Exploratória de Dados (EDA):**\n",
    "   - Realize uma análise exploratória detalhada dos dados.\n",
    "   - Identifique padrões, distribuições e possíveis anomalias.\n",
    "   - Visualize a distribuição das classes e discuta o desbalanceamento dos dados."
   ]
  },
  {
   "cell_type": "code",
   "execution_count": 2,
   "metadata": {},
   "outputs": [],
   "source": [
    "fraud_dataset = pd.read_csv('./creditcard.csv')"
   ]
  },
  {
   "cell_type": "code",
   "execution_count": 3,
   "metadata": {},
   "outputs": [
    {
     "data": {
      "text/html": [
       "<div>\n",
       "<style scoped>\n",
       "    .dataframe tbody tr th:only-of-type {\n",
       "        vertical-align: middle;\n",
       "    }\n",
       "\n",
       "    .dataframe tbody tr th {\n",
       "        vertical-align: top;\n",
       "    }\n",
       "\n",
       "    .dataframe thead th {\n",
       "        text-align: right;\n",
       "    }\n",
       "</style>\n",
       "<table border=\"1\" class=\"dataframe\">\n",
       "  <thead>\n",
       "    <tr style=\"text-align: right;\">\n",
       "      <th></th>\n",
       "      <th>Time</th>\n",
       "      <th>V1</th>\n",
       "      <th>V2</th>\n",
       "      <th>V3</th>\n",
       "      <th>V4</th>\n",
       "      <th>V5</th>\n",
       "      <th>V6</th>\n",
       "      <th>V7</th>\n",
       "      <th>V8</th>\n",
       "      <th>V9</th>\n",
       "      <th>...</th>\n",
       "      <th>V21</th>\n",
       "      <th>V22</th>\n",
       "      <th>V23</th>\n",
       "      <th>V24</th>\n",
       "      <th>V25</th>\n",
       "      <th>V26</th>\n",
       "      <th>V27</th>\n",
       "      <th>V28</th>\n",
       "      <th>Amount</th>\n",
       "      <th>Class</th>\n",
       "    </tr>\n",
       "  </thead>\n",
       "  <tbody>\n",
       "    <tr>\n",
       "      <th>0</th>\n",
       "      <td>0.0</td>\n",
       "      <td>-1.359807</td>\n",
       "      <td>-0.072781</td>\n",
       "      <td>2.536347</td>\n",
       "      <td>1.378155</td>\n",
       "      <td>-0.338321</td>\n",
       "      <td>0.462388</td>\n",
       "      <td>0.239599</td>\n",
       "      <td>0.098698</td>\n",
       "      <td>0.363787</td>\n",
       "      <td>...</td>\n",
       "      <td>-0.018307</td>\n",
       "      <td>0.277838</td>\n",
       "      <td>-0.110474</td>\n",
       "      <td>0.066928</td>\n",
       "      <td>0.128539</td>\n",
       "      <td>-0.189115</td>\n",
       "      <td>0.133558</td>\n",
       "      <td>-0.021053</td>\n",
       "      <td>149.62</td>\n",
       "      <td>0</td>\n",
       "    </tr>\n",
       "    <tr>\n",
       "      <th>1</th>\n",
       "      <td>0.0</td>\n",
       "      <td>1.191857</td>\n",
       "      <td>0.266151</td>\n",
       "      <td>0.166480</td>\n",
       "      <td>0.448154</td>\n",
       "      <td>0.060018</td>\n",
       "      <td>-0.082361</td>\n",
       "      <td>-0.078803</td>\n",
       "      <td>0.085102</td>\n",
       "      <td>-0.255425</td>\n",
       "      <td>...</td>\n",
       "      <td>-0.225775</td>\n",
       "      <td>-0.638672</td>\n",
       "      <td>0.101288</td>\n",
       "      <td>-0.339846</td>\n",
       "      <td>0.167170</td>\n",
       "      <td>0.125895</td>\n",
       "      <td>-0.008983</td>\n",
       "      <td>0.014724</td>\n",
       "      <td>2.69</td>\n",
       "      <td>0</td>\n",
       "    </tr>\n",
       "    <tr>\n",
       "      <th>2</th>\n",
       "      <td>1.0</td>\n",
       "      <td>-1.358354</td>\n",
       "      <td>-1.340163</td>\n",
       "      <td>1.773209</td>\n",
       "      <td>0.379780</td>\n",
       "      <td>-0.503198</td>\n",
       "      <td>1.800499</td>\n",
       "      <td>0.791461</td>\n",
       "      <td>0.247676</td>\n",
       "      <td>-1.514654</td>\n",
       "      <td>...</td>\n",
       "      <td>0.247998</td>\n",
       "      <td>0.771679</td>\n",
       "      <td>0.909412</td>\n",
       "      <td>-0.689281</td>\n",
       "      <td>-0.327642</td>\n",
       "      <td>-0.139097</td>\n",
       "      <td>-0.055353</td>\n",
       "      <td>-0.059752</td>\n",
       "      <td>378.66</td>\n",
       "      <td>0</td>\n",
       "    </tr>\n",
       "    <tr>\n",
       "      <th>3</th>\n",
       "      <td>1.0</td>\n",
       "      <td>-0.966272</td>\n",
       "      <td>-0.185226</td>\n",
       "      <td>1.792993</td>\n",
       "      <td>-0.863291</td>\n",
       "      <td>-0.010309</td>\n",
       "      <td>1.247203</td>\n",
       "      <td>0.237609</td>\n",
       "      <td>0.377436</td>\n",
       "      <td>-1.387024</td>\n",
       "      <td>...</td>\n",
       "      <td>-0.108300</td>\n",
       "      <td>0.005274</td>\n",
       "      <td>-0.190321</td>\n",
       "      <td>-1.175575</td>\n",
       "      <td>0.647376</td>\n",
       "      <td>-0.221929</td>\n",
       "      <td>0.062723</td>\n",
       "      <td>0.061458</td>\n",
       "      <td>123.50</td>\n",
       "      <td>0</td>\n",
       "    </tr>\n",
       "    <tr>\n",
       "      <th>4</th>\n",
       "      <td>2.0</td>\n",
       "      <td>-1.158233</td>\n",
       "      <td>0.877737</td>\n",
       "      <td>1.548718</td>\n",
       "      <td>0.403034</td>\n",
       "      <td>-0.407193</td>\n",
       "      <td>0.095921</td>\n",
       "      <td>0.592941</td>\n",
       "      <td>-0.270533</td>\n",
       "      <td>0.817739</td>\n",
       "      <td>...</td>\n",
       "      <td>-0.009431</td>\n",
       "      <td>0.798278</td>\n",
       "      <td>-0.137458</td>\n",
       "      <td>0.141267</td>\n",
       "      <td>-0.206010</td>\n",
       "      <td>0.502292</td>\n",
       "      <td>0.219422</td>\n",
       "      <td>0.215153</td>\n",
       "      <td>69.99</td>\n",
       "      <td>0</td>\n",
       "    </tr>\n",
       "  </tbody>\n",
       "</table>\n",
       "<p>5 rows × 31 columns</p>\n",
       "</div>"
      ],
      "text/plain": [
       "   Time        V1        V2        V3        V4        V5        V6        V7  \\\n",
       "0   0.0 -1.359807 -0.072781  2.536347  1.378155 -0.338321  0.462388  0.239599   \n",
       "1   0.0  1.191857  0.266151  0.166480  0.448154  0.060018 -0.082361 -0.078803   \n",
       "2   1.0 -1.358354 -1.340163  1.773209  0.379780 -0.503198  1.800499  0.791461   \n",
       "3   1.0 -0.966272 -0.185226  1.792993 -0.863291 -0.010309  1.247203  0.237609   \n",
       "4   2.0 -1.158233  0.877737  1.548718  0.403034 -0.407193  0.095921  0.592941   \n",
       "\n",
       "         V8        V9  ...       V21       V22       V23       V24       V25  \\\n",
       "0  0.098698  0.363787  ... -0.018307  0.277838 -0.110474  0.066928  0.128539   \n",
       "1  0.085102 -0.255425  ... -0.225775 -0.638672  0.101288 -0.339846  0.167170   \n",
       "2  0.247676 -1.514654  ...  0.247998  0.771679  0.909412 -0.689281 -0.327642   \n",
       "3  0.377436 -1.387024  ... -0.108300  0.005274 -0.190321 -1.175575  0.647376   \n",
       "4 -0.270533  0.817739  ... -0.009431  0.798278 -0.137458  0.141267 -0.206010   \n",
       "\n",
       "        V26       V27       V28  Amount  Class  \n",
       "0 -0.189115  0.133558 -0.021053  149.62      0  \n",
       "1  0.125895 -0.008983  0.014724    2.69      0  \n",
       "2 -0.139097 -0.055353 -0.059752  378.66      0  \n",
       "3 -0.221929  0.062723  0.061458  123.50      0  \n",
       "4  0.502292  0.219422  0.215153   69.99      0  \n",
       "\n",
       "[5 rows x 31 columns]"
      ]
     },
     "execution_count": 3,
     "metadata": {},
     "output_type": "execute_result"
    }
   ],
   "source": [
    "fraud_dataset.head()"
   ]
  },
  {
   "cell_type": "markdown",
   "metadata": {},
   "source": [
    "### Checando por valores nulos no dataset\n",
    "\n",
    "* dataset.isna().sum()"
   ]
  },
  {
   "cell_type": "code",
   "execution_count": 4,
   "metadata": {},
   "outputs": [
    {
     "data": {
      "text/plain": [
       "Time      0\n",
       "V1        0\n",
       "V2        0\n",
       "V3        0\n",
       "V4        0\n",
       "V5        0\n",
       "V6        0\n",
       "V7        0\n",
       "V8        0\n",
       "V9        0\n",
       "V10       0\n",
       "V11       0\n",
       "V12       0\n",
       "V13       0\n",
       "V14       0\n",
       "V15       0\n",
       "V16       0\n",
       "V17       0\n",
       "V18       0\n",
       "V19       0\n",
       "V20       0\n",
       "V21       0\n",
       "V22       0\n",
       "V23       0\n",
       "V24       0\n",
       "V25       0\n",
       "V26       0\n",
       "V27       0\n",
       "V28       0\n",
       "Amount    0\n",
       "Class     0\n",
       "dtype: int64"
      ]
     },
     "execution_count": 4,
     "metadata": {},
     "output_type": "execute_result"
    }
   ],
   "source": [
    "fraud_dataset.isna().sum()"
   ]
  },
  {
   "cell_type": "markdown",
   "metadata": {},
   "source": [
    "Nenhum dado nulo no dataset, perfeito, menos uma preocupação"
   ]
  },
  {
   "cell_type": "markdown",
   "metadata": {},
   "source": [
    "### Checando a proporção das classes\n",
    "\n",
    "* Class = 0, Transação Legítima\n",
    "* Class = 1, Transação Fraudulenta"
   ]
  },
  {
   "cell_type": "code",
   "execution_count": 5,
   "metadata": {},
   "outputs": [
    {
     "data": {
      "image/png": "[encoded data removed]",
      "text/plain": [
       "<Figure size 640x480 with 1 Axes>"
      ]
     },
     "metadata": {},
     "output_type": "display_data"
    }
   ],
   "source": [
    "# 1 Opção, checar a distribuição visualmente\n",
    "chart = fraud_dataset['Class'].value_counts()\n",
    "\n",
    "chart.plot(kind = 'bar')\n",
    "plt.xlabel('Categoria')\n",
    "plt.ylabel('Quantidade')\n",
    "plt.title('Quantidade de casos Legítimos e Fraudulentos')\n",
    "plt.show()"
   ]
  },
  {
   "cell_type": "markdown",
   "metadata": {},
   "source": [
    "### Problema de Visualização\n",
    "\n",
    "A vizualização não está muito boa mas existe uma discrepância imensa entre os valores\n",
    "\n",
    "* Vamos vizualizar de outra maneira, percentualmente"
   ]
  },
  {
   "cell_type": "code",
   "execution_count": 6,
   "metadata": {},
   "outputs": [],
   "source": [
    "def get_proportion(data, column, values_to_search):\n",
    "    result_list = []\n",
    "    result_dict = {}  \n",
    "    for i in values_to_search:\n",
    "        result = data[column].value_counts().get(i)\n",
    "        result_list.append(result)\n",
    "    for j in values_to_search:\n",
    "        proportion = 100*(result_list[j]/sum(result_list))\n",
    "        result_dict.update({values_to_search[j]: round(proportion, 2)})\n",
    "\n",
    "        \n",
    "    dataframe_proportions = pd.DataFrame(list(result_dict.items()), columns = ['Valores', 'Proporções']) \n",
    "    return dataframe_proportions     \n",
    "    \n"
   ]
  },
  {
   "cell_type": "code",
   "execution_count": 7,
   "metadata": {},
   "outputs": [
    {
     "data": {
      "text/html": [
       "<div>\n",
       "<style scoped>\n",
       "    .dataframe tbody tr th:only-of-type {\n",
       "        vertical-align: middle;\n",
       "    }\n",
       "\n",
       "    .dataframe tbody tr th {\n",
       "        vertical-align: top;\n",
       "    }\n",
       "\n",
       "    .dataframe thead th {\n",
       "        text-align: right;\n",
       "    }\n",
       "</style>\n",
       "<table border=\"1\" class=\"dataframe\">\n",
       "  <thead>\n",
       "    <tr style=\"text-align: right;\">\n",
       "      <th></th>\n",
       "      <th>Valores</th>\n",
       "      <th>Proporções</th>\n",
       "    </tr>\n",
       "  </thead>\n",
       "  <tbody>\n",
       "    <tr>\n",
       "      <th>0</th>\n",
       "      <td>Legítimo</td>\n",
       "      <td>99.83</td>\n",
       "    </tr>\n",
       "    <tr>\n",
       "      <th>1</th>\n",
       "      <td>Fraude</td>\n",
       "      <td>0.17</td>\n",
       "    </tr>\n",
       "  </tbody>\n",
       "</table>\n",
       "</div>"
      ],
      "text/plain": [
       "    Valores  Proporções\n",
       "0  Legítimo       99.83\n",
       "1    Fraude        0.17"
      ]
     },
     "execution_count": 7,
     "metadata": {},
     "output_type": "execute_result"
    }
   ],
   "source": [
    "proporcoes = get_proportion(fraud_dataset, 'Class', [0,1])\n",
    "proporcoes[\"Valores\"] = np.where(proporcoes[\"Valores\"] == 0, 'Legítimo', 'Fraude')\n",
    "proporcoes.head()"
   ]
  },
  {
   "cell_type": "markdown",
   "metadata": {},
   "source": [
    "### MEU DEUS!\n",
    "\n",
    "Que diferença absurda de proporção, mas vamos la:\n",
    "\n",
    "1. Primeiro criamos uma função que pode ser usada depois com duas variáveis alvo.\n",
    "2. Depois trocamos o nome do nosso resultado de 0 para Legítimo e 1 para Fraude, para uma melhor visualização usando a função:\n",
    "    ```Python\n",
    "    np.where(dataframe[coluna] == busca, valor_substituto, else)\n",
    "    ```\n",
    "3. E conseguimos descobrir a diferença absurda de proporções, onde:\n",
    "    * 99.83% de todos os casos são transações legítimas;\n",
    "    * 0.17% dos casos são fraudes.\n",
    "\n",
    "E isso não deveria ser ótimo?\n",
    "Claro, para o nosso negócio quanto mais próximo de 0 os casos de fraude, melhor para nós.\n",
    "\n",
    "No entando para nós isso também é bem ruim, isso se deve ao fato de que será praticamente inviável treinar um modelo para **prever** novas fraudes com um dataset **Extremamente** desbalanceado.\n",
    "\n",
    "**Para anotar**: Devemos realizar futuramente um balanceamento do dataset, antes de treinar o nosso modelo."
   ]
  },
  {
   "cell_type": "markdown",
   "metadata": {},
   "source": [
    "### Gráfico de correlação\n",
    "\n",
    "Para poder visualizar se existe correlação entre nossa variável alvo podemos utilizar do heatmap do seaborn, passando dados de corr.\n",
    "\n",
    "1. ```Python\n",
    "    import seaborn as sns\n",
    "\n",
    "2. Utilizar o método do pandas **corr** para encontrar a correlação entre as variáveis dos dados.\n",
    "    ```Python\n",
    "        corr_data = data.corr(method = ({‘pearson’, ‘kendall’, ‘spearman’} or callable))\n",
    "\n",
    "3. Criar nosso heatmap de correlação\n",
    "    ```Python\n",
    "        sns.heatmap(corr_data)"
   ]
  },
  {
   "cell_type": "code",
   "execution_count": 8,
   "metadata": {},
   "outputs": [
    {
     "data": {
      "image/png": "[encoded data removed]",
      "text/plain": [
       "<Figure size 640x480 with 2 Axes>"
      ]
     },
     "metadata": {},
     "output_type": "display_data"
    }
   ],
   "source": [
    "import seaborn as sns\n",
    "\n",
    "corr_data = fraud_dataset.corr()\n",
    "\n",
    "ax = sns.heatmap(corr_data, cmap=\"crest\")\n",
    "ax.set(xlabel=\"\", ylabel=\"\")\n",
    "ax.xaxis.tick_top()"
   ]
  },
  {
   "cell_type": "markdown",
   "metadata": {},
   "source": [
    "### Não vejo nada!\n",
    "\n",
    "Realmente, esse mapa de correlação é muito dificil de intepretar com tantas colunas, vamos tentar outra abordagem.\n",
    "\n",
    "O que podemos fazer é calcular o **Coeficiente de Correlação** e mostrar cada um deles em relação a variável alvo.\n",
    "\n",
    "1. Criamos uma iteração pegando cada coluna do nosso dataset;\n",
    "2. Calculamos o coeficiente da seguinte forma:\n",
    "    ```Python\n",
    "        coef = np.corrcoef(data[coluna], data[coluna_alvo])[0,1]\n",
    "3. Colocamos uma condição para printar o coeficiente de todas colunas que não sejam a alvo:\n",
    "    ```Python\n",
    "        if coluna != 'Alvo':\n",
    "            print(f'Coeficiente de Correlação de {i} X Alvo: {coef:.3f}')\n",
    "        else:\n",
    "            continue\n"
   ]
  },
  {
   "cell_type": "code",
   "execution_count": 9,
   "metadata": {},
   "outputs": [],
   "source": [
    "# def get_coef(data, alvo, limite=[-0.01, 0.01], ascending = False):\n",
    "#     \"\"\"\n",
    "#     Calcula o coeficiente de correlação entre as colunas de um DataFrame e uma variável alvo.\n",
    "\n",
    "#     Parâmetros:\n",
    "#     -----------\n",
    "#     data : pandas.DataFrame\n",
    "#         O DataFrame contendo os dados.\n",
    "#     alvo : str\n",
    "#         O nome da variável alvo para calcular a correlação.\n",
    "#     limite : list, opcional\n",
    "#         Lista com dois valores que definem o limite de correlação considerada significativa.\n",
    "\n",
    "#     Retorna:\n",
    "#     --------\n",
    "#     pandas.DataFrame\n",
    "#         DataFrame com as colunas que possuem correlação fora dos limites estabelecidos.\n",
    "\n",
    "#     Levanta:\n",
    "#     --------\n",
    "#     ValueError\n",
    "#         Se nenhuma coluna satisfizer os critérios de correlação.\n",
    "#     \"\"\"\n",
    "#     if alvo not in data.columns:\n",
    "#         raise ValueError(f\"A variável alvo '{alvo}' não está presente no DataFrame.\")\n",
    "\n",
    "#     corr_dict = {}\n",
    "#     for i in data.columns:\n",
    "#         if i == alvo:\n",
    "#             continue\n",
    "#         coef = np.corrcoef(data[i], data[alvo])[0, 1]\n",
    "#         if coef <= limite[0] or coef >= limite[1]:\n",
    "#             corr_dict.update({i: round(coef, 3)})\n",
    "\n",
    "#     if len(corr_dict) == 0:\n",
    "#         raise ValueError(\"Ajuste seu Limite: Nenhuma correlação encontrada dentro dos critérios.\")\n",
    "#     else:\n",
    "#         dataframe_corr = pd.DataFrame(list(corr_dict.items()), columns = ['Valores', 'Coeficiente de Correlação'])\n",
    "\n",
    "#     if ascending == False:\n",
    "#         dataframe_corr = dataframe_corr.sort_values('Coeficiente de Correlação', ignore_index = True, ascending = False)\n",
    "#     else:\n",
    "#         dataframe_corr = dataframe_corr.sort_values('Coeficiente de Correlação', ignore_index = True, ascending = True)\n",
    "\n",
    "\n",
    "#     # Exibir o resultado antes de retornar\n",
    "#     print(f\"\\n📊 Resultado da Análise de Correlação, Coluna alvo: {alvo}\")\n",
    "\n",
    "\n",
    "#     return dataframe_corr\n"
   ]
  },
  {
   "cell_type": "code",
   "execution_count": 10,
   "metadata": {},
   "outputs": [
    {
     "name": "stdout",
     "output_type": "stream",
     "text": [
      "\n",
      "📊 Resultado da Análise de Correlação, Coluna alvo: Class\n",
      "  Colunas  Coeficiente de Correlação\n",
      "0     V11                      0.155\n",
      "1      V4                      0.133\n",
      "2      V7                     -0.187\n",
      "3      V3                     -0.193\n",
      "4     V16                     -0.197\n",
      "5     V10                     -0.217\n",
      "6     V12                     -0.261\n",
      "7     V14                     -0.303\n",
      "8     V17                     -0.326\n"
     ]
    }
   ],
   "source": [
    "from coef_analysis import get_coef\n",
    "corr_data = get_coef(fraud_dataset, 'Class', [-0.187, 0.1])\n",
    "print(corr_data)"
   ]
  },
  {
   "cell_type": "code",
   "execution_count": null,
   "metadata": {},
   "outputs": [],
   "source": []
  }
 ],
 "metadata": {
  "kernelspec": {
   "display_name": "Python 3",
   "language": "python",
   "name": "python3"
  },
  "language_info": {
   "codemirror_mode": {
    "name": "ipython",
    "version": 3
   },
   "file_extension": ".py",
   "mimetype": "text/x-python",
   "name": "python",
   "nbconvert_exporter": "python",
   "pygments_lexer": "ipython3",
   "version": "3.12.2"
  }
 },
 "nbformat": 4,
 "nbformat_minor": 2
}
